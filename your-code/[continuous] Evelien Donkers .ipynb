{
 "cells": [
  {
   "cell_type": "markdown",
   "metadata": {},
   "source": [
    "# Before your start:\n",
    "\n",
    "    Read the README.md file\n",
    "    Comment as much as you can and use the resources (README.md file)\n",
    "    Happy learning!"
   ]
  },
  {
   "cell_type": "markdown",
   "metadata": {},
   "source": [
    "In this exercise, we  will generate random numbers from the continuous disributions we learned in the lesson. There are two ways to generate random numbers:\n",
    "\n",
    "1. Using the numpy library \n",
    "1. using the Scipy library \n",
    "\n",
    "Use either or both of the lbraries in this exercise."
   ]
  },
  {
   "cell_type": "code",
   "execution_count": 3,
   "metadata": {},
   "outputs": [],
   "source": [
    "from scipy.stats import binom\n",
    "from scipy.stats import uniform\n",
    "%matplotlib inline\n",
    "from scipy import stats\n",
    "from scipy.stats import binom\n",
    "import numpy as np\n",
    "\n",
    "import numpy as np\n",
    "import math\n",
    "import pandas as pd\n",
    "import matplotlib.pyplot as plt\n",
    "\n",
    "from scipy.stats import uniform\n",
    "from scipy.stats import norm\n",
    "from scipy.stats import expon"
   ]
  },
  {
   "cell_type": "markdown",
   "metadata": {},
   "source": [
    "## Uniform Distribution\n",
    "\n",
    "To generate uniform random numbers between any two given values using scipy, we can either use the following code or the code that we have\n",
    "discussed in class:"
   ]
  },
  {
   "cell_type": "code",
   "execution_count": 4,
   "metadata": {},
   "outputs": [
    {
     "name": "stdout",
     "output_type": "stream",
     "text": [
      "[2.13194805 2.90133204 2.98174565 2.81625036 2.32144233 2.25867822\n",
      " 2.94759127 2.08921075 2.17761414 2.691651  ]\n"
     ]
    }
   ],
   "source": [
    "from scipy.stats import uniform\n",
    "x = uniform.rvs(size=10)\n",
    "a = 2\n",
    "b = 3\n",
    "randoms  = a + (b-a)*x\n",
    "print(randoms)"
   ]
  },
  {
   "cell_type": "markdown",
   "metadata": {},
   "source": [
    "**Your task:**\n",
    "\n",
    "1. Based on the code above, write a function that generates uniformly distributed random numbers. There are several requirements for your function:\n",
    "    * It should accept 3 parameters: \n",
    "        * `bottom` - the lower boundary of the generated numbers\n",
    "        * `ceiling` - the upper boundary of the generated numbers\n",
    "        * `count` - how many numbers to generate\n",
    "    * It should return an array of uniformly distributed random numbers\n",
    "\n",
    "1. Call your function with 2 sets of params below:\n",
    "    * bottom=10, ceiling=15, count=100\n",
    "    * bottom=10, ceiling=60, count=1,000\n",
    "\n",
    "1. Plot the uniform distributions generated above using histograms, where x axis is the value and y axis is the count. Let the histogram's number of bins be 10.\n",
    "\n",
    "Your output should look like below:\n",
    "\n",
    "![uniform distribution](ud.png)"
   ]
  },
  {
   "cell_type": "code",
   "execution_count": 11,
   "metadata": {},
   "outputs": [
    {
     "data": {
      "text/plain": [
       "(array([ 6., 11., 10.,  5., 10.,  8., 15., 11., 12., 12.]),\n",
       " array([2.09454116, 2.84906635, 3.60359153, 4.35811672, 5.1126419 ,\n",
       "        5.86716709, 6.62169228, 7.37621746, 8.13074265, 8.88526783,\n",
       "        9.63979302]),\n",
       " <a list of 10 Patch objects>)"
      ]
     },
     "execution_count": 11,
     "metadata": {},
     "output_type": "execute_result"
    },
    {
     "data": {
      "image/png": "[encoded data removed]",
      "text/plain": [
       "<Figure size 432x288 with 1 Axes>"
      ]
     },
     "metadata": {
      "needs_background": "light"
     },
     "output_type": "display_data"
    }
   ],
   "source": [
    "def randomsnumbers(b, c, n):\n",
    "    n = uniform.rvs(size=n)\n",
    "    randoms = a + (b-a)*n\n",
    "    return randoms\n",
    "\n",
    "plt.hist(randomsnumbers(10, 15, 100))"
   ]
  },
  {
   "cell_type": "code",
   "execution_count": 10,
   "metadata": {},
   "outputs": [
    {
     "data": {
      "text/plain": [
       "(array([110.,  92.,  85., 117.,  92.,  96., 105., 108., 101.,  94.]),\n",
       " array([2.00087355, 2.80029981, 3.59972608, 4.39915235, 5.19857862,\n",
       "        5.99800488, 6.79743115, 7.59685742, 8.39628369, 9.19570995,\n",
       "        9.99513622]),\n",
       " <a list of 10 Patch objects>)"
      ]
     },
     "execution_count": 10,
     "metadata": {},
     "output_type": "execute_result"
    },
    {
     "data": {
      "image/png": "[encoded data removed]",
      "text/plain": [
       "<Figure size 432x288 with 1 Axes>"
      ]
     },
     "metadata": {
      "needs_background": "light"
     },
     "output_type": "display_data"
    }
   ],
   "source": [
    "plt.hist(randomsnumbers(10, 60, 1000))"
   ]
  },
  {
   "cell_type": "markdown",
   "metadata": {},
   "source": [
    "How are the two distributions different?"
   ]
  },
  {
   "cell_type": "code",
   "execution_count": null,
   "metadata": {},
   "outputs": [],
   "source": [
    "# your answer here:\n",
    "### the second one has a more even distribution while there are more numbers. "
   ]
  },
  {
   "cell_type": "markdown",
   "metadata": {},
   "source": [
    "## Normal Distribution\n",
    "\n",
    "1. In the same way in the Uniform Distribution challenge, write a function that generates normally distributed random numbers.\n",
    "1. Generate 1,000 normally distributed numbers with the average of 10 and standard deviation of 1\n",
    "1. Generate 1,000 normally distributed numbers with the average of 10 and standard deviation of 50\n",
    "2. Plot the distributions of the data generated.\n",
    "\n",
    "Expected output:\n",
    "\n",
    "![normal distribution](nd.png)"
   ]
  },
  {
   "cell_type": "code",
   "execution_count": 16,
   "metadata": {},
   "outputs": [
    {
     "data": {
      "text/plain": [
       "(array([  3.,  18.,  58., 146., 254., 264., 173.,  58.,  22.,   4.]),\n",
       " array([ 6.50406679,  7.20112467,  7.89818256,  8.59524044,  9.29229832,\n",
       "         9.98935621, 10.68641409, 11.38347197, 12.08052986, 12.77758774,\n",
       "        13.47464562]),\n",
       " <a list of 10 Patch objects>)"
      ]
     },
     "execution_count": 16,
     "metadata": {},
     "output_type": "execute_result"
    },
    {
     "data": {
      "image/png": "[encoded data removed]",
      "text/plain": [
       "<Figure size 432x288 with 1 Axes>"
      ]
     },
     "metadata": {
      "needs_background": "light"
     },
     "output_type": "display_data"
    }
   ],
   "source": [
    "N1 =np.random.normal(10, 1, 1000)\n",
    "plt.hist(N1)"
   ]
  },
  {
   "cell_type": "code",
   "execution_count": 15,
   "metadata": {},
   "outputs": [
    {
     "data": {
      "text/plain": [
       "(array([  5.,  20.,  54., 133., 219., 272., 165.,  92.,  31.,   9.]),\n",
       " array([-158.45415885, -126.25839997,  -94.06264109,  -61.86688221,\n",
       "         -29.67112334,    2.52463554,   34.72039442,   66.9161533 ,\n",
       "          99.11191218,  131.30767106,  163.50342994]),\n",
       " <a list of 10 Patch objects>)"
      ]
     },
     "execution_count": 15,
     "metadata": {},
     "output_type": "execute_result"
    },
    {
     "data": {
      "image/png": "[encoded data removed]",
      "text/plain": [
       "<Figure size 432x288 with 1 Axes>"
      ]
     },
     "metadata": {
      "needs_background": "light"
     },
     "output_type": "display_data"
    }
   ],
   "source": [
    "N2=np.random.normal(10, 50, 1000)\n",
    "plt.hist(N2)"
   ]
  },
  {
   "cell_type": "markdown",
   "metadata": {},
   "source": [
    "How are the two distributions different?"
   ]
  },
  {
   "cell_type": "code",
   "execution_count": null,
   "metadata": {},
   "outputs": [],
   "source": [
    "# your answer here:\n",
    "'''The second distribution is less sharp while the standard deviaton is way higher. '''"
   ]
  },
  {
   "cell_type": "markdown",
   "metadata": {},
   "source": [
    "## Normal Distribution of Real Data\n",
    "\n",
    "In this challenge we are going to take a look the real data. We will use vehicles.csv file for this exercise"
   ]
  },
  {
   "cell_type": "code",
   "execution_count": 28,
   "metadata": {},
   "outputs": [
    {
     "data": {
      "text/plain": [
       "Index(['Make', 'Model', 'Year', 'Engine Displacement', 'Cylinders',\n",
       "       'Transmission', 'Drivetrain', 'Vehicle Class', 'Fuel Type',\n",
       "       'Fuel Barrels/Year', 'City MPG', 'Highway MPG', 'Combined MPG',\n",
       "       'CO2 Emission Grams/Mile', 'Fuel Cost/Year'],\n",
       "      dtype='object')"
      ]
     },
     "execution_count": 28,
     "metadata": {},
     "output_type": "execute_result"
    }
   ],
   "source": [
    "# your code here\n",
    "ds = pd.read_csv('vehicles.csv')\n",
    "\n",
    "ds.columns"
   ]
  },
  {
   "cell_type": "markdown",
   "metadata": {},
   "source": [
    "First import vehicles.csv.\n",
    "Then plot the histograms for the following variables:\n",
    "\n",
    "1. Fuel Barrels/Year"
   ]
  },
  {
   "cell_type": "code",
   "execution_count": 31,
   "metadata": {},
   "outputs": [
    {
     "data": {
      "text/plain": [
       "<matplotlib.axes._subplots.AxesSubplot at 0x290223ab358>"
      ]
     },
     "execution_count": 31,
     "metadata": {},
     "output_type": "execute_result"
    },
    {
     "data": {
      "image/png": "[encoded data removed]",
      "text/plain": [
       "<Figure size 432x288 with 1 Axes>"
      ]
     },
     "metadata": {
      "needs_background": "light"
     },
     "output_type": "display_data"
    }
   ],
   "source": [
    "ds['Fuel Barrels/Year'].hist()"
   ]
  },
  {
   "cell_type": "markdown",
   "metadata": {},
   "source": [
    "2. CO2 Emission Grams/Mile "
   ]
  },
  {
   "cell_type": "code",
   "execution_count": 32,
   "metadata": {},
   "outputs": [
    {
     "data": {
      "text/plain": [
       "<matplotlib.axes._subplots.AxesSubplot at 0x290222d8e80>"
      ]
     },
     "execution_count": 32,
     "metadata": {},
     "output_type": "execute_result"
    },
    {
     "data": {
      "image/png": "[encoded data removed]",
      "text/plain": [
       "<Figure size 432x288 with 1 Axes>"
      ]
     },
     "metadata": {
      "needs_background": "light"
     },
     "output_type": "display_data"
    }
   ],
   "source": [
    "# your code here\n",
    "ds['CO2 Emission Grams/Mile'].hist()"
   ]
  },
  {
   "cell_type": "markdown",
   "metadata": {},
   "source": [
    "3. Combined MPG"
   ]
  },
  {
   "cell_type": "code",
   "execution_count": 33,
   "metadata": {},
   "outputs": [
    {
     "data": {
      "text/plain": [
       "<matplotlib.axes._subplots.AxesSubplot at 0x29022371278>"
      ]
     },
     "execution_count": 33,
     "metadata": {},
     "output_type": "execute_result"
    },
    {
     "data": {
      "image/png": "[encoded data removed]",
      "text/plain": [
       "<Figure size 432x288 with 1 Axes>"
      ]
     },
     "metadata": {
      "needs_background": "light"
     },
     "output_type": "display_data"
    }
   ],
   "source": [
    "# your code here\n",
    "ds['Combined MPG'].hist()"
   ]
  },
  {
   "cell_type": "markdown",
   "metadata": {},
   "source": [
    "Which one(s) of the variables are nearly normally distributed? How do you know?"
   ]
  },
  {
   "cell_type": "code",
   "execution_count": null,
   "metadata": {},
   "outputs": [],
   "source": [
    "# you answer here:\n",
    "'Hmm, they are all not super normally distributed. But would say that combined MPG is the most normally distributed\n",
    "'while the column to the left and to the right of the peak are the most alike.''"
   ]
  },
  {
   "cell_type": "markdown",
   "metadata": {},
   "source": [
    "## Exponential Distribution"
   ]
  },
  {
   "cell_type": "markdown",
   "metadata": {},
   "source": [
    "1. Using `numpy.random.exponential`, create a function that returns a list of numbers exponentially distributed with the mean of 10. \n",
    "\n",
    "1. Use the function to generate two number sequences with a mean of 1 and a size of 1000.\n",
    "\n",
    "1. Plot the distributions as histograms with the number of bins as 100.\n",
    "\n",
    "Your output should look like below:\n",
    "\n",
    "![exponential distribution](ed.png)"
   ]
  },
  {
   "cell_type": "code",
   "execution_count": 27,
   "metadata": {},
   "outputs": [
    {
     "name": "stderr",
     "output_type": "stream",
     "text": [
      "C:\\Users\\eveli\\Anaconda3\\lib\\site-packages\\ipykernel_launcher.py:3: MatplotlibDeprecationWarning: \n",
      "The 'normed' kwarg was deprecated in Matplotlib 2.1 and will be removed in 3.1. Use 'density' instead.\n",
      "  This is separate from the ipykernel package so we can avoid doing imports until\n"
     ]
    },
    {
     "data": {
      "text/plain": [
       "(array([0.83115486, 0.87568102, 0.83115486, 0.94989127, 0.84599691,\n",
       "        0.68273435, 0.74210256, 0.48978769, 0.62336615, 0.54915589,\n",
       "        0.41557743, 0.44526153, 0.38589333, 0.34136718, 0.40073538,\n",
       "        0.34136718, 0.29684102, 0.25231487, 0.25231487, 0.22263077,\n",
       "        0.31168307, 0.28199897, 0.28199897, 0.13357846, 0.13357846,\n",
       "        0.26715692, 0.14842051, 0.22263077, 0.17810461, 0.13357846,\n",
       "        0.11873641, 0.14842051, 0.07421026, 0.11873641, 0.0593682 ,\n",
       "        0.07421026, 0.07421026, 0.01484205, 0.04452615, 0.0296841 ,\n",
       "        0.0296841 , 0.10389436, 0.04452615, 0.08905231, 0.08905231,\n",
       "        0.0593682 , 0.0593682 , 0.04452615, 0.0296841 , 0.0593682 ,\n",
       "        0.0296841 , 0.0593682 , 0.0296841 , 0.04452615, 0.01484205,\n",
       "        0.0593682 , 0.01484205, 0.0296841 , 0.01484205, 0.        ,\n",
       "        0.01484205, 0.01484205, 0.04452615, 0.0296841 , 0.0296841 ,\n",
       "        0.        , 0.01484205, 0.        , 0.01484205, 0.0296841 ,\n",
       "        0.01484205, 0.        , 0.        , 0.01484205, 0.01484205,\n",
       "        0.        , 0.        , 0.        , 0.        , 0.        ,\n",
       "        0.01484205, 0.        , 0.        , 0.01484205, 0.        ,\n",
       "        0.        , 0.        , 0.        , 0.01484205, 0.        ,\n",
       "        0.        , 0.        , 0.        , 0.        , 0.        ,\n",
       "        0.        , 0.        , 0.01484205, 0.        , 0.01484205]),\n",
       " array([4.02242511e-04, 6.77783748e-02, 1.35154507e-01, 2.02530639e-01,\n",
       "        2.69906772e-01, 3.37282904e-01, 4.04659036e-01, 4.72035168e-01,\n",
       "        5.39411301e-01, 6.06787433e-01, 6.74163565e-01, 7.41539697e-01,\n",
       "        8.08915830e-01, 8.76291962e-01, 9.43668094e-01, 1.01104423e+00,\n",
       "        1.07842036e+00, 1.14579649e+00, 1.21317262e+00, 1.28054876e+00,\n",
       "        1.34792489e+00, 1.41530102e+00, 1.48267715e+00, 1.55005328e+00,\n",
       "        1.61742942e+00, 1.68480555e+00, 1.75218168e+00, 1.81955781e+00,\n",
       "        1.88693395e+00, 1.95431008e+00, 2.02168621e+00, 2.08906234e+00,\n",
       "        2.15643847e+00, 2.22381461e+00, 2.29119074e+00, 2.35856687e+00,\n",
       "        2.42594300e+00, 2.49331914e+00, 2.56069527e+00, 2.62807140e+00,\n",
       "        2.69544753e+00, 2.76282367e+00, 2.83019980e+00, 2.89757593e+00,\n",
       "        2.96495206e+00, 3.03232819e+00, 3.09970433e+00, 3.16708046e+00,\n",
       "        3.23445659e+00, 3.30183272e+00, 3.36920886e+00, 3.43658499e+00,\n",
       "        3.50396112e+00, 3.57133725e+00, 3.63871338e+00, 3.70608952e+00,\n",
       "        3.77346565e+00, 3.84084178e+00, 3.90821791e+00, 3.97559405e+00,\n",
       "        4.04297018e+00, 4.11034631e+00, 4.17772244e+00, 4.24509857e+00,\n",
       "        4.31247471e+00, 4.37985084e+00, 4.44722697e+00, 4.51460310e+00,\n",
       "        4.58197924e+00, 4.64935537e+00, 4.71673150e+00, 4.78410763e+00,\n",
       "        4.85148376e+00, 4.91885990e+00, 4.98623603e+00, 5.05361216e+00,\n",
       "        5.12098829e+00, 5.18836443e+00, 5.25574056e+00, 5.32311669e+00,\n",
       "        5.39049282e+00, 5.45786896e+00, 5.52524509e+00, 5.59262122e+00,\n",
       "        5.65999735e+00, 5.72737348e+00, 5.79474962e+00, 5.86212575e+00,\n",
       "        5.92950188e+00, 5.99687801e+00, 6.06425415e+00, 6.13163028e+00,\n",
       "        6.19900641e+00, 6.26638254e+00, 6.33375867e+00, 6.40113481e+00,\n",
       "        6.46851094e+00, 6.53588707e+00, 6.60326320e+00, 6.67063934e+00,\n",
       "        6.73801547e+00]),\n",
       " <a list of 100 Patch objects>)"
      ]
     },
     "execution_count": 27,
     "metadata": {},
     "output_type": "execute_result"
    },
    {
     "data": {
      "image/png": "[encoded data removed]",
      "text/plain": [
       "<Figure size 432x288 with 1 Axes>"
      ]
     },
     "metadata": {
      "needs_background": "light"
     },
     "output_type": "display_data"
    }
   ],
   "source": [
    "# your code here\n",
    "ns = np.random.exponential(scale=1.0, size=1*1000)\n",
    "plt.hist(ns, normed=True, bins=100,lw=0,alpha=.8)"
   ]
  },
  {
   "cell_type": "code",
   "execution_count": 29,
   "metadata": {},
   "outputs": [
    {
     "name": "stderr",
     "output_type": "stream",
     "text": [
      "C:\\Users\\eveli\\Anaconda3\\lib\\site-packages\\ipykernel_launcher.py:3: MatplotlibDeprecationWarning: \n",
      "The 'normed' kwarg was deprecated in Matplotlib 2.1 and will be removed in 3.1. Use 'density' instead.\n",
      "  This is separate from the ipykernel package so we can avoid doing imports until\n"
     ]
    },
    {
     "data": {
      "text/plain": [
       "(array([0.94456601, 0.88433863, 0.79901652, 0.7046603 , 0.61431923,\n",
       "        0.59926239, 0.52799333, 0.45572048, 0.44166742, 0.38445141,\n",
       "        0.34329604, 0.25897772, 0.29511414, 0.2599815 , 0.24492466,\n",
       "        0.20477308, 0.18469729, 0.15659118, 0.15157223, 0.1355116 ,\n",
       "        0.14755707, 0.12948886, 0.11643959, 0.08933727, 0.10037896,\n",
       "        0.07628801, 0.0672539 , 0.06223495, 0.06625011, 0.06524632,\n",
       "        0.04918569, 0.0481819 , 0.038144  , 0.04517053, 0.03613643,\n",
       "        0.03412885, 0.02609853, 0.02007579, 0.02107958, 0.02007579,\n",
       "        0.01706442, 0.01606063, 0.01104169, 0.01104169, 0.00803032,\n",
       "        0.00602274, 0.00903411, 0.01304926, 0.01304926, 0.00200758,\n",
       "        0.00602274, 0.00903411, 0.00903411, 0.00401516, 0.00803032,\n",
       "        0.00100379, 0.00401516, 0.        , 0.00803032, 0.00501895,\n",
       "        0.00501895, 0.00401516, 0.00100379, 0.00200758, 0.        ,\n",
       "        0.00200758, 0.00100379, 0.00100379, 0.        , 0.        ,\n",
       "        0.        , 0.00200758, 0.        , 0.00100379, 0.00100379,\n",
       "        0.00200758, 0.        , 0.00100379, 0.        , 0.        ,\n",
       "        0.        , 0.00100379, 0.        , 0.        , 0.00100379,\n",
       "        0.        , 0.        , 0.        , 0.        , 0.        ,\n",
       "        0.        , 0.        , 0.        , 0.        , 0.00100379,\n",
       "        0.        , 0.        , 0.        , 0.        , 0.00100379]),\n",
       " array([1.19535587e-04, 9.97420068e-02, 1.99364478e-01, 2.98986949e-01,\n",
       "        3.98609421e-01, 4.98231892e-01, 5.97854363e-01, 6.97476834e-01,\n",
       "        7.97099306e-01, 8.96721777e-01, 9.96344248e-01, 1.09596672e+00,\n",
       "        1.19558919e+00, 1.29521166e+00, 1.39483413e+00, 1.49445660e+00,\n",
       "        1.59407908e+00, 1.69370155e+00, 1.79332402e+00, 1.89294649e+00,\n",
       "        1.99256896e+00, 2.09219143e+00, 2.19181390e+00, 2.29143637e+00,\n",
       "        2.39105885e+00, 2.49068132e+00, 2.59030379e+00, 2.68992626e+00,\n",
       "        2.78954873e+00, 2.88917120e+00, 2.98879367e+00, 3.08841614e+00,\n",
       "        3.18803862e+00, 3.28766109e+00, 3.38728356e+00, 3.48690603e+00,\n",
       "        3.58652850e+00, 3.68615097e+00, 3.78577344e+00, 3.88539591e+00,\n",
       "        3.98501839e+00, 4.08464086e+00, 4.18426333e+00, 4.28388580e+00,\n",
       "        4.38350827e+00, 4.48313074e+00, 4.58275321e+00, 4.68237568e+00,\n",
       "        4.78199816e+00, 4.88162063e+00, 4.98124310e+00, 5.08086557e+00,\n",
       "        5.18048804e+00, 5.28011051e+00, 5.37973298e+00, 5.47935545e+00,\n",
       "        5.57897793e+00, 5.67860040e+00, 5.77822287e+00, 5.87784534e+00,\n",
       "        5.97746781e+00, 6.07709028e+00, 6.17671275e+00, 6.27633522e+00,\n",
       "        6.37595770e+00, 6.47558017e+00, 6.57520264e+00, 6.67482511e+00,\n",
       "        6.77444758e+00, 6.87407005e+00, 6.97369252e+00, 7.07331499e+00,\n",
       "        7.17293747e+00, 7.27255994e+00, 7.37218241e+00, 7.47180488e+00,\n",
       "        7.57142735e+00, 7.67104982e+00, 7.77067229e+00, 7.87029476e+00,\n",
       "        7.96991723e+00, 8.06953971e+00, 8.16916218e+00, 8.26878465e+00,\n",
       "        8.36840712e+00, 8.46802959e+00, 8.56765206e+00, 8.66727453e+00,\n",
       "        8.76689700e+00, 8.86651948e+00, 8.96614195e+00, 9.06576442e+00,\n",
       "        9.16538689e+00, 9.26500936e+00, 9.36463183e+00, 9.46425430e+00,\n",
       "        9.56387677e+00, 9.66349925e+00, 9.76312172e+00, 9.86274419e+00,\n",
       "        9.96236666e+00]),\n",
       " <a list of 100 Patch objects>)"
      ]
     },
     "execution_count": 29,
     "metadata": {},
     "output_type": "execute_result"
    },
    {
     "data": {
      "image/png": "[encoded data removed]",
      "text/plain": [
       "<Figure size 432x288 with 1 Axes>"
      ]
     },
     "metadata": {
      "needs_background": "light"
     },
     "output_type": "display_data"
    }
   ],
   "source": [
    "# your code here\n",
    "ns2 = np.random.exponential(scale=1.0, size=10*1000)\n",
    "plt.hist(ns2, normed=True, bins=100,lw=0,alpha=.8)"
   ]
  },
  {
   "cell_type": "markdown",
   "metadata": {},
   "source": [
    "How are the two distributions different?"
   ]
  },
  {
   "cell_type": "code",
   "execution_count": null,
   "metadata": {},
   "outputs": [],
   "source": [
    "# your answer here:\n",
    "'''The one with the mean of 1 is more smooth, this is while the differences between the numbers are smaller.''''"
   ]
  },
  {
   "cell_type": "markdown",
   "metadata": {},
   "source": [
    "## Exponential Distribution of Real Data\n",
    "\n",
    "Suppose that the amount of time one spends in a bank is exponentially distributed with mean as 10 minutes (i.e. λ = 1/10). What is the probability that a customer will spend less than fifteen minutes in the bank? \n",
    "\n",
    "Write a code in python to solve this problem"
   ]
  },
  {
   "cell_type": "code",
   "execution_count": 21,
   "metadata": {},
   "outputs": [],
   "source": [
    "# Hint: This is same as saying P(x<15)\n",
    "def wait(t, m):\n",
    "    x = 1-math.exp(-(1/m)*(t))\n",
    "    return x"
   ]
  },
  {
   "cell_type": "markdown",
   "metadata": {},
   "source": [
    "What is the probability that the customer will spend more than 15 minutes"
   ]
  },
  {
   "cell_type": "code",
   "execution_count": 22,
   "metadata": {},
   "outputs": [
    {
     "data": {
      "text/plain": [
       "0.7768698398515702"
      ]
     },
     "execution_count": 22,
     "metadata": {},
     "output_type": "execute_result"
    }
   ],
   "source": [
    "# the chance is around 22,3% to wait longer then 15 minutes. \n",
    "wait(15,10)"
   ]
  }
 ],
 "metadata": {
  "kernelspec": {
   "display_name": "Python 3",
   "language": "python",
   "name": "python3"
  },
  "language_info": {
   "codemirror_mode": {
    "name": "ipython",
    "version": 3
   },
   "file_extension": ".py",
   "mimetype": "text/x-python",
   "name": "python",
   "nbconvert_exporter": "python",
   "pygments_lexer": "ipython3",
   "version": "3.7.3"
  }
 },
 "nbformat": 4,
 "nbformat_minor": 2
}
